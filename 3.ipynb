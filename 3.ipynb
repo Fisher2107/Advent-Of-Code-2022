{
 "cells": [
  {
   "cell_type": "code",
   "execution_count": 40,
   "id": "0b1493ad-86a5-420c-a99d-6904275f9b2b",
   "metadata": {},
   "outputs": [
    {
     "name": "stdout",
     "output_type": "stream",
     "text": [
      "7845\n",
      "300\n"
     ]
    }
   ],
   "source": [
    "#Will start using read txt option now as copy and paste looks ugly\n",
    "with open('3.txt', 'r') as f:\n",
    "    data = f.read().splitlines()\n",
    "priority=\"abcdefghijklmnopqrstuvwxyzABCDEFGHIJKLMNOPQRSTUVWXYZ\"\n",
    "priorityval={}\n",
    "for i in range(len(priority)):\n",
    "    priorityval[priority[i]]=i+1\n",
    "total=0\n",
    "for i in range(len(data)):\n",
    "    items_len=len(data[i])\n",
    "    split1=data[i][:items_len//2]\n",
    "    split2=data[i][items_len//2:]\n",
    "    for i in split1:\n",
    "        if i in split2:\n",
    "            common=i\n",
    "            break\n",
    "    total+=priorityval[common]\n",
    "print(total)\n",
    "print(len(data))"
   ]
  },
  {
   "cell_type": "code",
   "execution_count": 42,
   "id": "0e8e8c95-a4d2-46ec-94d1-506f931659db",
   "metadata": {},
   "outputs": [
    {
     "name": "stdout",
     "output_type": "stream",
     "text": [
      "2790\n"
     ]
    }
   ],
   "source": [
    "total=0\n",
    "for i in range((len(data)//3)):\n",
    "    for letter in data[i*3]:\n",
    "        if letter in data[(i*3)+1] and letter in data[(i*3)+2]:\n",
    "            common=letter\n",
    "            break\n",
    "    total+=priorityval[common]\n",
    "print(total)"
   ]
  },
  {
   "cell_type": "code",
   "execution_count": 29,
   "id": "a260707c-e05f-4021-a203-f4325ab40c3b",
   "metadata": {},
   "outputs": [
    {
     "data": {
      "text/plain": [
       "'jqHRNqRjqzjGDLGLrsFMfFZSrLrFZsSL'"
      ]
     },
     "execution_count": 29,
     "metadata": {},
     "output_type": "execute_result"
    }
   ],
   "source": [
    "data[1]"
   ]
  },
  {
   "cell_type": "code",
   "execution_count": 30,
   "id": "7db6dcc9-6e5c-4beb-8a79-60ad2db03cfb",
   "metadata": {},
   "outputs": [
    {
     "data": {
      "text/plain": [
       "False"
      ]
     },
     "execution_count": 30,
     "metadata": {},
     "output_type": "execute_result"
    }
   ],
   "source": [
    "\"J\" in data[1]"
   ]
  },
  {
   "cell_type": "code",
   "execution_count": null,
   "id": "e92cc9e0-9fc9-4c58-9477-43c302ec40fc",
   "metadata": {},
   "outputs": [],
   "source": []
  }
 ],
 "metadata": {
  "kernelspec": {
   "display_name": "Python 3 (ipykernel)",
   "language": "python",
   "name": "python3"
  },
  "language_info": {
   "codemirror_mode": {
    "name": "ipython",
    "version": 3
   },
   "file_extension": ".py",
   "mimetype": "text/x-python",
   "name": "python",
   "nbconvert_exporter": "python",
   "pygments_lexer": "ipython3",
   "version": "3.9.7"
  }
 },
 "nbformat": 4,
 "nbformat_minor": 5
}
