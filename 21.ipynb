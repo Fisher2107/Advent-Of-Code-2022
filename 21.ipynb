{
 "cells": [
  {
   "cell_type": "code",
   "execution_count": 32,
   "metadata": {},
   "outputs": [
    {
     "data": {
      "text/plain": [
       "299983725663456.0"
      ]
     },
     "execution_count": 32,
     "metadata": {},
     "output_type": "execute_result"
    }
   ],
   "source": [
    "#21\n",
    "with open('21.txt', 'r') as f:\n",
    "    data=tuple(line.split(\": \") for line in f.read().splitlines())\n",
    "    \n",
    "numbersdict={}\n",
    "equationsdict={}\n",
    "for i in range(len(data)):\n",
    "    if len(data[i][1])<5:\n",
    "        data[i][1]=int(data[i][1])\n",
    "        numbersdict[data[i][0]]=data[i][1]\n",
    "    else:\n",
    "        equationsdict[data[i][0]]=data[i][1]\n",
    "    \n",
    "def findvalue(aaaa):\n",
    "    if aaaa in numbersdict:\n",
    "        return numbersdict[aaaa]\n",
    "    equation=equationsdict[aaaa]\n",
    "    if \"*\" in equation:\n",
    "        return findvalue(equation[:4])*findvalue(equation[-4:])\n",
    "    elif \"+\" in equation:\n",
    "        return findvalue(equation[:4])+findvalue(equation[-4:])\n",
    "    elif \"-\" in equation:\n",
    "        return findvalue(equation[:4])-findvalue(equation[-4:])\n",
    "    elif \"/\" in equation:\n",
    "        return findvalue(equation[:4])/findvalue(equation[-4:])\n",
    "\n",
    "findvalue(\"root\")"
   ]
  },
  {
   "cell_type": "code",
   "execution_count": 33,
   "metadata": {},
   "outputs": [
    {
     "name": "stdout",
     "output_type": "stream",
     "text": [
      "[210322230808298.0 - 39.0086877000457*x, 89661494901968.0]\n"
     ]
    },
    {
     "data": {
      "text/plain": [
       "[3093175982594.99]"
      ]
     },
     "execution_count": 33,
     "metadata": {},
     "output_type": "execute_result"
    }
   ],
   "source": [
    "#part 2\n",
    "from sympy import *\n",
    "x=symbols(\"x\")\n",
    "numbersdict[\"humn\"]=x\n",
    "def findhumn(root):\n",
    "    equation=equationsdict[root]\n",
    "    print ([findvalue(equation[:4]),findvalue(equation[-4:])])\n",
    "    return solve(Eq(findvalue(equation[:4]), findvalue(equation[-4:])), x)\n",
    "\n",
    "findhumn(\"root\")"
   ]
  },
  {
   "cell_type": "code",
   "execution_count": null,
   "metadata": {},
   "outputs": [],
   "source": []
  }
 ],
 "metadata": {
  "kernelspec": {
   "display_name": "Python 3",
   "language": "python",
   "name": "python3"
  },
  "language_info": {
   "codemirror_mode": {
    "name": "ipython",
    "version": 3
   },
   "file_extension": ".py",
   "mimetype": "text/x-python",
   "name": "python",
   "nbconvert_exporter": "python",
   "pygments_lexer": "ipython3",
   "version": "3.8.3"
  }
 },
 "nbformat": 4,
 "nbformat_minor": 4
}
