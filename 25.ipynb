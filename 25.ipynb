{
 "cells": [
  {
   "cell_type": "code",
   "execution_count": 33,
   "id": "ede0f1a3-7f1c-4e4d-a652-6614cffb31a7",
   "metadata": {},
   "outputs": [
    {
     "name": "stdout",
     "output_type": "stream",
     "text": [
      "[29905448124, 293, 351292606909, 161145087887, 268, 229735, 283795233728, 61349, 4791, 5557455796750, 257902, 55707, 79, 13851344427402, 566, 331044442, 7, 333013305850, 12344758395, 30240464719, 721671, 1346138, 72283, 6851211, 318595318, 11715, 1179965, 10806567021, 752995881525, 16182508, 1014982, 370, 196775407034, 3314, 2, 181, 1088, 50043694, 110143966, 7616, 258125, 1641, 53362, 852663, 1314, 16, 415700, 85, 55454667, 44, 385, 58240313, 5736090, 8441, 1483827, 185468866, 15471698, 3899, 22154949, 41, 99467, 604626, 1189375774, 16384733436, 21, 82833398, 14137, 34752, 250207795614, 640833259, 755032519639, 1649713865574, 1075576854099, 7628626318, 387517821, 2566627781, 13476522, 33832021749, 39, 12525442111, 3932, 4945990805, 103758206102, 1027643913, 13, 504413604, 708, 411, 116, 10382453273, 28858266, 109818450, 13078, 1569127928307, 29142786866, 84137, 5417, 10215959, 1491570037130, 972763134814, 128551935, 266958065, 3436623688, 15698, 3473246564, 1324704, 89273012493, 1547406, 126, 1744, 260652, 61741588, 111846847184, 4141, 6637997550, 19, 26943824303, 1995, 3083769664466, 38, 39090761967, 18274, 1241865814059, 2979389, 515, 185939815] 34168440432447\n",
      "34168440432447\n"
     ]
    },
    {
     "data": {
      "text/plain": [
       "'2-0-0=1-0=2====20=-2'"
      ]
     },
     "execution_count": 33,
     "metadata": {},
     "output_type": "execute_result"
    }
   ],
   "source": [
    "with open('25.txt', 'r') as f:\n",
    "    data=tuple(list(reversed(line)) for line in f.read().splitlines())\n",
    "\n",
    "def convertdecimal(listt):\n",
    "    valuesmap={\"1\":1,\n",
    "            \"0\":0,\n",
    "            \"2\":2,\n",
    "            '-':-1,\n",
    "            \"=\":-2\n",
    "            }\n",
    "    value=0\n",
    "    for j in range(len(listt)):\n",
    "        multiply=5**j\n",
    "        value+=multiply*valuesmap[listt[j]]\n",
    "    return value\n",
    "\n",
    "finalvalues=[]   \n",
    "for i in range(len(data)):\n",
    "    finalvalues.append(convertdecimal(data[i]))\n",
    "\n",
    "summ=sum(finalvalues)\n",
    "print(finalvalues, summ)\n",
    "\n",
    "\n",
    "def convertSNAFU(decimal):\n",
    "    remainderlist=[]\n",
    "    carryover=False\n",
    "    while True:\n",
    "        remainder=decimal%5\n",
    "        if carryover:\n",
    "            remainder+=1\n",
    "            if remainder==5:\n",
    "                remainder=0\n",
    "            else: carryover=False\n",
    "        decimal=decimal//5\n",
    "        #print(decimal)\n",
    "        if remainder==3:\n",
    "            remainderlist.append(\"=\")\n",
    "            carryover=1\n",
    "        elif remainder==4:\n",
    "            remainderlist.append(\"-\")\n",
    "            carryover=1\n",
    "        else: \n",
    "            remainderlist.append(str(remainder))\n",
    "        if (decimal<3 and not carryover) or decimal<2:\n",
    "            if carryover:\n",
    "                remainderlist.append(str(decimal+1))\n",
    "            else:\n",
    "                remainderlist.append(str(decimal))\n",
    "            break\n",
    "        elif decimal<5:\n",
    "            if carryover:\n",
    "                remainder=decimal+1\n",
    "            else:\n",
    "                remainder=decimal\n",
    "            if remainder==3:\n",
    "                remainderlist.append(\"=\")\n",
    "                remainderlist.append(\"1\")\n",
    "            else:\n",
    "                remainderlist.append(\"-\")\n",
    "                remainderlist.append(\"1\")\n",
    "            break\n",
    "            \n",
    "    return remainderlist\n",
    "\n",
    "print(convertdecimal(convertSNAFU(summ)))\n",
    "\"\".join(list(reversed(convertSNAFU(summ))))"
   ]
  },
  {
   "cell_type": "code",
   "execution_count": null,
   "id": "81f0a3fe-660a-4777-8d46-c91f842f63c9",
   "metadata": {},
   "outputs": [],
   "source": []
  }
 ],
 "metadata": {
  "kernelspec": {
   "display_name": "Python 3 (ipykernel)",
   "language": "python",
   "name": "python3"
  },
  "language_info": {
   "codemirror_mode": {
    "name": "ipython",
    "version": 3
   },
   "file_extension": ".py",
   "mimetype": "text/x-python",
   "name": "python",
   "nbconvert_exporter": "python",
   "pygments_lexer": "ipython3",
   "version": "3.9.7"
  }
 },
 "nbformat": 4,
 "nbformat_minor": 5
}
