{
 "cells": [
  {
   "cell_type": "code",
   "execution_count": 75,
   "id": "23e9cd9e-51c3-4f81-ac96-d3a6384468d7",
   "metadata": {},
   "outputs": [
    {
     "name": "stdout",
     "output_type": "stream",
     "text": [
      "[['Monkey 0:', [83, 88, 96, 79, 86, 88, 70], ['*', '5'], 11, 2, 3, ''], ['Monkey 1:', [59, 63, 98, 85, 68, 72], ['*', '11'], 5, 4, 0, ''], ['Monkey 2:', [90, 79, 97, 52, 90, 94, 71, 70], ['+', '2'], 19, 5, 6, ''], ['Monkey 3:', [97, 55, 62], ['+', '5'], 13, 2, 6, ''], ['Monkey 4:', [74, 54, 94, 76], ['*', 'old'], 7, 0, 3, ''], ['Monkey 5:', [58], ['+', '4'], 17, 7, 1, ''], ['Monkey 6:', [66, 63], ['+', '6'], 2, 7, 5, ''], ['Monkey 7:', [56, 56, 90, 96, 68], ['+', '7'], 3, 4, 1]]\n",
      "[['Monkey 0:', [7, 7, 7, 33], ['*', '5'], 11, 2, 3, ''], ['Monkey 1:', [2, 9, 9, 9, 7], ['*', '11'], 5, 4, 0, ''], ['Monkey 2:', [], ['+', '2'], 19, 5, 6, ''], ['Monkey 3:', [3, 3, 3, 3, 3, 3, 3, 3, 3, 3, 3, 208, 208, 208, 208], ['+', '5'], 13, 2, 6, ''], ['Monkey 4:', [3, 3, 3, 3, 3, 3, 3, 3, 3, 3], ['*', 'old'], 7, 0, 3, ''], ['Monkey 5:', [3, 3], ['+', '4'], 17, 7, 1, ''], ['Monkey 6:', [], ['+', '6'], 2, 7, 5, ''], ['Monkey 7:', [], ['+', '7'], 3, 4, 1]]\n",
      "[127, 155, 73, 232, 178, 133, 276, 172]\n"
     ]
    },
    {
     "data": {
      "text/plain": [
       "64032"
      ]
     },
     "execution_count": 75,
     "metadata": {},
     "output_type": "execute_result"
    }
   ],
   "source": [
    "with open('11.txt', 'r') as f:\n",
    "    data = f.read().splitlines()\n",
    "Monkeysindex =[]\n",
    "#datacleaning\n",
    "for i in range(8):\n",
    "    Monkeysindex.append(data.index(f'Monkey {i}:'))\n",
    "Monkeysindex.append(len(data))\n",
    "datasplit=[]\n",
    "for i in range(len(Monkeysindex)-1):\n",
    "    datasplit.append(data[Monkeysindex[i]:Monkeysindex[i+1]])\n",
    "\n",
    "for i in range(8):\n",
    "    datasplit[i][1]=[int(j) for j in datasplit[i][1][18:].split(\", \")]\n",
    "    datasplit[i][2]=[datasplit[i][2][23],datasplit[i][2][25:]]\n",
    "    datasplit[i][3]=int(datasplit[i][3][21:])\n",
    "    datasplit[i][4]=int(datasplit[i][4][-1])\n",
    "    datasplit[i][5]=int(datasplit[i][5][-1])\n",
    "print(datasplit)\n",
    "#action\n",
    "Monkeyinspect=[0 for i in range(8)]\n",
    "for r in range(1,21):\n",
    "    for m in range(8):\n",
    "        for i in range(len(datasplit[m][1])):\n",
    "            Monkeyinspect[m]+=1\n",
    "            worry=datasplit[m][1][i]\n",
    "            if datasplit[m][2][0]=='*':\n",
    "                if datasplit[m][2][1]!='old':\n",
    "                    worry=worry*int(datasplit[m][2][1])\n",
    "                else:\n",
    "                    worry=worry*worry\n",
    "            else:\n",
    "                worry=worry+int(datasplit[m][2][1])\n",
    "            worry=worry//3\n",
    "            if worry%datasplit[m][3]==0:\n",
    "                datasplit[datasplit[m][4]][1].append(worry)\n",
    "            else:\n",
    "                datasplit[datasplit[m][5]][1].append(worry)\n",
    "        datasplit[m][1]=[]\n",
    "        #print(datasplit)\n",
    "\n",
    "print(datasplit)\n",
    "print(Monkeyinspect)\n",
    "232*276"
   ]
  },
  {
   "cell_type": "code",
   "execution_count": 7,
   "id": "58f5e4cd-4f5b-4df1-862a-720d408fd8cf",
   "metadata": {},
   "outputs": [
    {
     "name": "stdout",
     "output_type": "stream",
     "text": [
      "[11, 5, 19, 13, 7, 17, 2, 3] ####\n",
      "[['Monkey 0:', [[6, 3, 7, 5, 6, 15, 1, 2], [0, 3, 12, 10, 4, 3, 0, 1], [8, 1, 1, 5, 5, 11, 0, 0], [2, 4, 3, 1, 2, 11, 1, 1], [9, 1, 10, 8, 2, 1, 0, 2], [0, 3, 12, 10, 4, 3, 0, 1], [4, 0, 13, 5, 0, 2, 0, 1]], ['*', '5'], 11, 2, 3, ''], ['Monkey 1:', [[4, 4, 2, 7, 3, 8, 1, 2], [8, 3, 6, 11, 0, 12, 1, 0], [10, 3, 3, 7, 0, 13, 0, 2], [8, 0, 9, 7, 1, 0, 1, 1], [2, 3, 11, 3, 5, 0, 0, 2], [6, 2, 15, 7, 2, 4, 0, 0]], ['*', '11'], 5, 4, 0, ''], ['Monkey 2:', [[2, 0, 14, 12, 6, 5, 0, 0], [2, 4, 3, 1, 2, 11, 1, 1], [9, 2, 2, 6, 6, 12, 1, 1], [8, 2, 14, 0, 3, 1, 0, 1], [2, 0, 14, 12, 6, 5, 0, 0], [6, 4, 18, 3, 3, 9, 0, 1], [5, 1, 14, 6, 1, 3, 1, 2], [4, 0, 13, 5, 0, 2, 0, 1]], ['+', '2'], 19, 5, 6, ''], ['Monkey 3:', [[9, 2, 2, 6, 6, 12, 1, 1], [0, 0, 17, 3, 6, 4, 1, 1], [7, 2, 5, 10, 6, 11, 0, 2]], ['+', '5'], 13, 2, 6, ''], ['Monkey 4:', [[8, 4, 17, 9, 4, 6, 0, 2], [10, 4, 16, 2, 5, 3, 0, 0], [6, 4, 18, 3, 3, 9, 0, 1], [10, 1, 0, 11, 6, 8, 0, 1]], ['*', 'old'], 7, 0, 3, ''], ['Monkey 5:', [[3, 3, 1, 6, 2, 7, 0, 1]], ['+', '4'], 17, 7, 1, ''], ['Monkey 6:', [[0, 1, 9, 1, 3, 15, 0, 0], [8, 3, 6, 11, 0, 12, 1, 0]], ['+', '6'], 2, 7, 5, ''], ['Monkey 7:', [[1, 1, 18, 4, 0, 5, 0, 2], [1, 1, 18, 4, 0, 5, 0, 2], [2, 0, 14, 12, 6, 5, 0, 0], [8, 1, 1, 5, 5, 11, 0, 0], [2, 3, 11, 3, 5, 0, 0, 2]], ['+', '7'], 3, 4, 1]]\n",
      "[['Monkey 0:', [[0, 2, 2, 5, 5, 2, 1, 2], [0, 2, 18, 7, 4, 6, 1, 2], [0, 2, 6, 1, 4, 4, 1, 2], [0, 2, 16, 4, 6, 15, 1, 1], [0, 2, 2, 9, 0, 3, 1, 2], [0, 2, 18, 4, 1, 7, 1, 0], [0, 2, 18, 4, 1, 7, 1, 0], [0, 2, 6, 8, 1, 5, 1, 2]], ['*', '5'], 11, 2, 3, ''], ['Monkey 1:', [[1, 2, 12, 1, 3, 5, 1, 1], [1, 2, 0, 5, 1, 6, 1, 1], [1, 2, 3, 8, 2, 15, 1, 1], [1, 2, 0, 10, 5, 15, 1, 2], [1, 2, 4, 10, 6, 8, 1, 2], [1, 2, 14, 12, 6, 10, 1, 1], [1, 2, 4, 1, 5, 6, 1, 1], [1, 2, 0, 0, 0, 8, 1, 1], [1, 2, 4, 6, 4, 1, 1, 1], [1, 2, 6, 5, 6, 1, 1, 1], [1, 2, 14, 2, 4, 8, 1, 1], [1, 2, 6, 11, 5, 3, 1, 2], [1, 2, 0, 2, 6, 1, 1, 1]], ['*', '11'], 5, 4, 0, ''], ['Monkey 2:', [], ['+', '2'], 19, 5, 6, ''], ['Monkey 3:', [[9, 4, 0, 12, 1, 1, 1, 0], [9, 4, 7, 12, 4, 15, 1, 0], [9, 4, 7, 12, 4, 15, 1, 0], [9, 4, 6, 3, 4, 8, 1, 0], [9, 4, 6, 3, 4, 8, 1, 0]], ['+', '5'], 13, 2, 6, ''], ['Monkey 4:', [[10, 2, 15, 8, 5, 10, 1, 0], [5, 2, 6, 4, 5, 9, 1, 0]], ['*', 'old'], 7, 0, 3, ''], ['Monkey 5:', [[8, 3, 18, 4, 5, 11, 1, 0], [8, 3, 15, 1, 4, 2, 1, 0], [8, 3, 14, 1, 2, 0, 1, 1], [8, 3, 15, 7, 1, 6, 1, 0], [8, 3, 0, 10, 1, 2, 1, 0], [8, 3, 0, 10, 0, 3, 1, 1], [8, 3, 18, 12, 3, 14, 1, 0], [8, 3, 2, 1, 0, 14, 1, 0]], ['+', '4'], 17, 7, 1, ''], ['Monkey 6:', [], ['+', '6'], 2, 7, 5, ''], ['Monkey 7:', [], ['+', '7'], 3, 4, 1]]\n",
      "[96662, 96676, 96661, 35023, 35024, 96644, 131672, 35052]\n",
      "131672 96676 12729522272\n"
     ]
    }
   ],
   "source": [
    "with open('11.txt', 'r') as f:\n",
    "    data = f.read().splitlines()\n",
    "Monkeysindex =[]\n",
    "#datacleaning\n",
    "for i in range(8):\n",
    "    Monkeysindex.append(data.index(f'Monkey {i}:'))\n",
    "Monkeysindex.append(len(data))\n",
    "datasplit=[]\n",
    "\n",
    "\n",
    "for i in range(len(Monkeysindex)-1):\n",
    "    datasplit.append(data[Monkeysindex[i]:Monkeysindex[i+1]])\n",
    "\n",
    "for i in range(len(datasplit)):\n",
    "    datasplit[i][3]=int(datasplit[i][3][21:])\n",
    "    datasplit[i][2]=[datasplit[i][2][23],datasplit[i][2][25:]]\n",
    "    datasplit[i][4]=int(datasplit[i][4][-1])\n",
    "    datasplit[i][5]=int(datasplit[i][5][-1])\n",
    "    \n",
    "divisors=[datasplit[i][3] for i in range(len(datasplit))]\n",
    "    \n",
    "def numconverter(x):\n",
    "    new=[]\n",
    "    for i in range(len(divisors)):\n",
    "        new.append(x%divisors[i])\n",
    "    return new\n",
    "\n",
    "for i in range(len(datasplit)): datasplit[i][1]=[numconverter(int(j)) for j in datasplit[i][1][18:].split(\", \")]\n",
    "\n",
    "print(divisors,\"####\")\n",
    "print(datasplit)\n",
    "\n",
    "#action\n",
    "Monkeyinspect=[0 for i in range(8)]\n",
    "for r in range(1,10001):\n",
    "    for m in range(len(datasplit)):\n",
    "        #print(Monkeyinspect)\n",
    "        for i in range(len(datasplit[m][1])):\n",
    "            Monkeyinspect[m]+=1\n",
    "            worry=datasplit[m][1][i]\n",
    "            if datasplit[m][2][0]=='*':\n",
    "                if datasplit[m][2][1]=='old':\n",
    "                    worry=[(worry[i]*worry[i])%divisors[i] for i in range(len(worry))]\n",
    "                else:\n",
    "                    worry=[(worry[i]*int(datasplit[m][2][1]))%divisors[i] for i in range(len(worry))]\n",
    "            else:\n",
    "                worry=[(worry[i]+int(datasplit[m][2][1]))%divisors[i] for i in range(len(worry))]\n",
    "            \n",
    "            #print(m)\n",
    "            #print(worry)\n",
    "            if worry[m]==0:\n",
    "                datasplit[datasplit[m][4]][1].append(worry)\n",
    "            else:\n",
    "                datasplit[datasplit[m][5]][1].append(worry)\n",
    "        datasplit[m][1]=[]\n",
    "\n",
    "print(datasplit)\n",
    "print(Monkeyinspect)\n",
    "max1=max(Monkeyinspect)\n",
    "Monkeyinspect.remove(max1)\n",
    "max2=max(Monkeyinspect)\n",
    "print(max1,max2,max1*max2)"
   ]
  },
  {
   "cell_type": "code",
   "execution_count": null,
   "id": "10fc9bd5-b317-4c6e-83d1-994ab7bbb4bb",
   "metadata": {},
   "outputs": [],
   "source": []
  }
 ],
 "metadata": {
  "kernelspec": {
   "display_name": "Python 3 (ipykernel)",
   "language": "python",
   "name": "python3"
  },
  "language_info": {
   "codemirror_mode": {
    "name": "ipython",
    "version": 3
   },
   "file_extension": ".py",
   "mimetype": "text/x-python",
   "name": "python",
   "nbconvert_exporter": "python",
   "pygments_lexer": "ipython3",
   "version": "3.9.7"
  }
 },
 "nbformat": 4,
 "nbformat_minor": 5
}
