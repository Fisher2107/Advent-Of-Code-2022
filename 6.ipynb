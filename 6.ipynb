{
 "cells": [
  {
   "cell_type": "code",
   "execution_count": 26,
   "metadata": {},
   "outputs": [
    {
     "name": "stdout",
     "output_type": "stream",
     "text": [
      "1544 thwr\n",
      "2145 rldchztmwfjvnq\n"
     ]
    }
   ],
   "source": [
    "with open('6.txt', 'r') as f:\n",
    "    data = f.read()\n",
    "    \n",
    "def uniquelist(list):\n",
    "    for j,i in enumerate(list):\n",
    "        if j==0:\n",
    "            memory={i}\n",
    "        else:\n",
    "            if i in memory:\n",
    "                return False\n",
    "            else:\n",
    "                memory.add(i)\n",
    "                if j==len(list)-1:\n",
    "                    return True\n",
    "\n",
    "for i in range(len(data)):\n",
    "    if uniquelist(data[i:i+4]):\n",
    "        print(i+4,data[i:i+4])\n",
    "        break\n",
    "\n",
    "for i in range(len(data)):\n",
    "    if uniquelist(data[i:i+14]):\n",
    "        print(i+14,data[i:i+14])\n",
    "        break"
   ]
  },
  {
   "cell_type": "code",
   "execution_count": null,
   "metadata": {},
   "outputs": [],
   "source": []
  }
 ],
 "metadata": {
  "kernelspec": {
   "display_name": "Python 3",
   "language": "python",
   "name": "python3"
  },
  "language_info": {
   "codemirror_mode": {
    "name": "ipython",
    "version": 3
   },
   "file_extension": ".py",
   "mimetype": "text/x-python",
   "name": "python",
   "nbconvert_exporter": "python",
   "pygments_lexer": "ipython3",
   "version": "3.8.3"
  }
 },
 "nbformat": 4,
 "nbformat_minor": 4
}
