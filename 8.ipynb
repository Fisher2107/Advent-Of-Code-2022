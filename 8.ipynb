{
 "cells": [
  {
   "cell_type": "code",
   "execution_count": 14,
   "metadata": {},
   "outputs": [
    {
     "name": "stdout",
     "output_type": "stream",
     "text": [
      "1662\n"
     ]
    }
   ],
   "source": [
    "with open('8.txt', 'r') as f:\n",
    "    data = f.read().splitlines()\n",
    "data\n",
    "\n",
    "def visible(i,j):\n",
    "    visible=0\n",
    "    visible1=0\n",
    "    for s in range(len(data)):\n",
    "        if s<i and visible==0:\n",
    "            if data[s][j]>=data[i][j]:\n",
    "                visible +=1\n",
    "        if s>i:\n",
    "            if data[s][j]>=data[i][j]:\n",
    "                visible +=1\n",
    "                break\n",
    "    for s in range(len(data[i])):\n",
    "        if s<j and visible1==0:\n",
    "            if data[i][s]>=data[i][j]:\n",
    "                visible1 +=1\n",
    "        if s>j:\n",
    "            if data[i][s]>=data[i][j]:\n",
    "                visible +=1\n",
    "                break\n",
    "                \n",
    "    if visible + visible1 == 4:\n",
    "        return False\n",
    "    else: return True\n",
    "\n",
    "count=0\n",
    "for i in range(len(data)):\n",
    "    for j in range(len(data[i])):\n",
    "        if visible(i,j):\n",
    "            count+=1\n",
    "            #print(i,j,data[i][j])\n",
    "            \n",
    "print(count)"
   ]
  },
  {
   "cell_type": "code",
   "execution_count": 24,
   "metadata": {},
   "outputs": [
    {
     "name": "stdout",
     "output_type": "stream",
     "text": [
      "537600\n"
     ]
    }
   ],
   "source": [
    "def scenic(i,j):\n",
    "    score=[0,0,0,0]\n",
    "    \n",
    "    s=i-1\n",
    "    while s>=0 and s < len(data):\n",
    "        if data[s][j]<data[i][j]:\n",
    "                score[0]+=1\n",
    "        else:\n",
    "            score[0]+=1\n",
    "            break\n",
    "        s-=1\n",
    "            \n",
    "    s=i+1\n",
    "    while s>=0 and s < len(data):\n",
    "        if data[s][j]<data[i][j]:\n",
    "                score[1]+=1\n",
    "        else:\n",
    "            score[1]+=1\n",
    "            break\n",
    "        s+=1   \n",
    "        \n",
    "        \n",
    "    s=j-1\n",
    "    while s>=0 and s < len(data[i]):\n",
    "        if data[i][s]<data[i][j]:\n",
    "                score[2]+=1\n",
    "        else:\n",
    "            score[2]+=1\n",
    "            break\n",
    "        s-=1\n",
    "\n",
    "    s=j+1\n",
    "    while s>=0 and s < len(data[i]):\n",
    "        if data[i][s]<data[i][j]:\n",
    "                score[3]+=1\n",
    "        else:\n",
    "            score[3]+=1\n",
    "            break\n",
    "        s+=1\n",
    "    \n",
    "    product=1\n",
    "    for i in score:\n",
    "        if i!=0:\n",
    "            product=product*i\n",
    "    return (product,score)\n",
    "            \n",
    "\n",
    "maxx=0\n",
    "for i in range(len(data)):\n",
    "    for j in range(len(data[i])):\n",
    "        #print(i,j,scenic(i,j))\n",
    "        if scenic(i,j)[0]>maxx:\n",
    "            maxx=scenic(i,j)[0]\n",
    "            #print(i,j,data[i][j])\n",
    "            \n",
    "print(maxx)"
   ]
  },
  {
   "cell_type": "code",
   "execution_count": null,
   "metadata": {},
   "outputs": [],
   "source": []
  }
 ],
 "metadata": {
  "kernelspec": {
   "display_name": "Python 3",
   "language": "python",
   "name": "python3"
  },
  "language_info": {
   "codemirror_mode": {
    "name": "ipython",
    "version": 3
   },
   "file_extension": ".py",
   "mimetype": "text/x-python",
   "name": "python",
   "nbconvert_exporter": "python",
   "pygments_lexer": "ipython3",
   "version": "3.8.3"
  }
 },
 "nbformat": 4,
 "nbformat_minor": 4
}
