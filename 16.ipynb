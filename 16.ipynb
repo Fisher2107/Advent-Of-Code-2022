{
 "cells": [
  {
   "cell_type": "code",
   "execution_count": 13,
   "id": "95c54cc4-7118-417e-8cb9-cc1a550f9512",
   "metadata": {},
   "outputs": [
    {
     "data": {
      "text/plain": [
       "1940"
      ]
     },
     "execution_count": 13,
     "metadata": {},
     "output_type": "execute_result"
    }
   ],
   "source": [
    "import re\n",
    "from collections import deque\n",
    "import itertools\n",
    "import functools\n",
    "    \n",
    "with open('16.txt', 'r') as f:\n",
    "    data={}\n",
    "    for line in f.read().splitlines():\n",
    "        valve = line[6:8]\n",
    "        flow = int(re.findall(\"[0-9-]+\",line)[0])\n",
    "        connect = tuple(i[-2:] for i in line.split(\",\"))\n",
    "        data[valve] = (flow,connect)\n",
    "\n",
    "#Takes too long\n",
    "\"\"\"queue=deque([])\n",
    "queue.append((\"AA\",0,0))\n",
    "maxx=0\n",
    "while len(queue)!=0:\n",
    "    expand = queue.pop()\n",
    "    if expand[1]==30:\n",
    "        if expand[2]>maxx:\n",
    "            maxx = expand[2]\n",
    "        continue\n",
    "    node = data[expand[0]]\n",
    "    for i in range(len(node[1])):\n",
    "        queue.append((node[1][i],expand[1]+1,expand[2]))\n",
    "    if node[0]!=0:\n",
    "        queue.append((expand[0],expand[1]+1,expand[2]+node[0]*(30-expand[1])))\n",
    "        data[expand[0]] = (0,node[1])\n",
    "\n",
    "print(maxx)\n",
    "    \"\"\"\n",
    "\n",
    "#Here functools wont be very effective since we have one extra variable\n",
    "\"\"\"@functools.lru_cache(maxsize=None)    \n",
    "def maxflow(Node,timepassed,opened,valve):\n",
    "    if timepassed==30:\n",
    "        return valve\n",
    "    maxx=0\n",
    "    nodedet = data[Node]\n",
    "    for i in range(len(nodedet[1])):\n",
    "        maxx = max(maxx,maxflow(nodedet[1][i],timepassed+1,opened,valve))\n",
    "    if nodedet[0]!=0 and Node not in opened:\n",
    "        maxx = max(maxx,maxflow(Node,timepassed+1,tuple(sorted(opened+(Node,))),valve+nodedet[0]*(30-timepassed-1)))\n",
    "    return maxx\n",
    "\n",
    "\n",
    "print(maxflow(\"AA\",0,(),0))\"\"\"\n",
    "\n",
    "@functools.lru_cache(maxsize=None)    \n",
    "def maxflow(Node,timepassed,opened):\n",
    "    if timepassed==30:\n",
    "        return 0\n",
    "    maxx=0\n",
    "    nodedet = data[Node]\n",
    "    for i in range(len(nodedet[1])):\n",
    "        maxx = max(maxx,maxflow(nodedet[1][i],timepassed+1,opened))\n",
    "    if nodedet[0]!=0 and Node not in opened:\n",
    "        maxx = max(maxx,maxflow(Node,timepassed+1,tuple(sorted(opened+(Node,))))+nodedet[0]*(30-timepassed-1))\n",
    "    return maxx\n",
    "\n",
    "\n",
    "maxflow(\"AA\",0,())\n"
   ]
  },
  {
   "cell_type": "code",
   "execution_count": null,
   "id": "1d5c1ac4-01d3-401c-b954-f6e1a6276e26",
   "metadata": {},
   "outputs": [],
   "source": []
  }
 ],
 "metadata": {
  "kernelspec": {
   "display_name": "Python 3 (ipykernel)",
   "language": "python",
   "name": "python3"
  },
  "language_info": {
   "codemirror_mode": {
    "name": "ipython",
    "version": 3
   },
   "file_extension": ".py",
   "mimetype": "text/x-python",
   "name": "python",
   "nbconvert_exporter": "python",
   "pygments_lexer": "ipython3",
   "version": "3.9.7"
  }
 },
 "nbformat": 4,
 "nbformat_minor": 5
}
