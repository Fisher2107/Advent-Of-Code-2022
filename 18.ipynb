{
 "cells": [
  {
   "cell_type": "code",
   "execution_count": 49,
   "id": "17732f25-fe65-405b-9814-8183833999de",
   "metadata": {
    "tags": []
   },
   "outputs": [
    {
     "data": {
      "text/plain": [
       "4364"
      ]
     },
     "execution_count": 49,
     "metadata": {},
     "output_type": "execute_result"
    }
   ],
   "source": [
    "import re\n",
    "from collections import deque \n",
    "\n",
    "def numbers(line):\n",
    "    output=re.findall(\"[0-9-]+\",line)\n",
    "    for i in range(len(output)):\n",
    "        output[i]=int(output[i])\n",
    "    return tuple(output)\n",
    "        \n",
    "with open('18.txt', 'r') as f:\n",
    "    data=tuple(numbers(line) for line in f.read().splitlines())\n",
    "\n",
    "\n",
    "\n",
    "def surface(listt):\n",
    "    cubes=set()\n",
    "    SA=0\n",
    "    for i in range(len(listt)):\n",
    "        SA+=6\n",
    "        cube=listt[i]\n",
    "        for i in (-1,1):\n",
    "            if (cube[0]+i,cube[1],cube[2]) in cubes:\n",
    "                SA-=2\n",
    "        for i in (-1,1):\n",
    "            if (cube[0],cube[1]+i,cube[2]) in cubes:\n",
    "                SA-=2\n",
    "        for i in (-1,1):\n",
    "            if (cube[0],cube[1],cube[2]+i) in cubes:\n",
    "                SA-=2\n",
    "        cubes.add(cube)\n",
    "    return (SA,cubes)\n",
    "cubes=surface(data)[1]\n",
    "answer1=surface(data)[0]\n",
    "answer1"
   ]
  },
  {
   "cell_type": "code",
   "execution_count": 50,
   "id": "3862c703-3899-44c8-8fa7-98bea8b77d96",
   "metadata": {
    "tags": []
   },
   "outputs": [
    {
     "data": {
      "text/plain": [
       "2508"
      ]
     },
     "execution_count": 50,
     "metadata": {},
     "output_type": "execute_result"
    }
   ],
   "source": [
    "#imagine taking the lavadroplet and putting in a cube that is has -1<x,y,z<22. This will completly surround the lavadroplet.\n",
    "#Then we find the inside surface area of the 24x24x24 cube and we have found the answer.\n",
    "\n",
    "connected={}\n",
    "\n",
    "def expandlookat(lookat):\n",
    "    branches=[]\n",
    "    for i in (-1,1):\n",
    "        branch=(lookat[0]+i,lookat[1],lookat[2])\n",
    "        if branch not in cubes and branch not in connected and max(branch)<=22 and min(branch)>=-1:\n",
    "            branches.append(branch)\n",
    "    for i in (-1,1):\n",
    "        branch=(lookat[0],lookat[1]+i,lookat[2])\n",
    "        if branch not in cubes and branch not in connected and max(branch)<=22 and min(branch)>=-1:\n",
    "            branches.append(branch)\n",
    "    for i in (-1,1):\n",
    "        branch=(lookat[0],lookat[1],lookat[2]+i)\n",
    "        if branch not in cubes and branch not in connected and max(branch)<=22 and min(branch)>=-1:\n",
    "            branches.append(branch)\n",
    "    return branches\n",
    "\n",
    "queue=deque([(-1,-1,-1)])\n",
    "while len(queue)>0:\n",
    "    observe=queue[0]\n",
    "    connected[observe]=expandlookat(observe)\n",
    "    for i in connected[observe]:\n",
    "        if i not in queue and i not in connected:\n",
    "            queue.append(i)\n",
    "    queue.popleft()\n",
    "    \n",
    "connectedtuple=tuple(i for i in connected)\n",
    "\n",
    "answer2=surface(connectedtuple)[0]-24*24*6\n",
    "answer2"
   ]
  },
  {
   "cell_type": "code",
   "execution_count": null,
   "id": "bbe454c4-e0f6-4e8a-bb33-c0fec5050981",
   "metadata": {},
   "outputs": [],
   "source": []
  }
 ],
 "metadata": {
  "kernelspec": {
   "display_name": "Python 3 (ipykernel)",
   "language": "python",
   "name": "python3"
  },
  "language_info": {
   "codemirror_mode": {
    "name": "ipython",
    "version": 3
   },
   "file_extension": ".py",
   "mimetype": "text/x-python",
   "name": "python",
   "nbconvert_exporter": "python",
   "pygments_lexer": "ipython3",
   "version": "3.9.7"
  }
 },
 "nbformat": 4,
 "nbformat_minor": 5
}
