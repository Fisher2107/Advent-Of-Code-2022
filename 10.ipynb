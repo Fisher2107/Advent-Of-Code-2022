{
 "cells": [
  {
   "cell_type": "code",
   "execution_count": 35,
   "id": "5d68fe52-eb48-40b6-b6e8-53854b153f92",
   "metadata": {},
   "outputs": [
    {
     "data": {
      "text/plain": [
       "14420"
      ]
     },
     "execution_count": 35,
     "metadata": {},
     "output_type": "execute_result"
    }
   ],
   "source": [
    "with open('10.txt', 'r') as f:\n",
    "    data = f.read().splitlines()\n",
    "data=[i.split(\" \") for i in data]\n",
    "\n",
    "X=1\n",
    "cycle=1\n",
    "i=0\n",
    "sum=0\n",
    "def check():\n",
    "    global sum\n",
    "    if cycle in [20,60,100,140,180,220]:\n",
    "        sum+=cycle * X\n",
    "        \n",
    "while i<len(data):\n",
    "    if data[i]==['noop']:\n",
    "        cycle+=1\n",
    "        check()\n",
    "        i+=1\n",
    "    else:\n",
    "        V=int(data[i][1])\n",
    "        cycle+=1\n",
    "        check()\n",
    "        cycle+=1\n",
    "        X+=V\n",
    "        check()\n",
    "        i+=1\n",
    "sum\n",
    "        \n",
    "        "
   ]
  },
  {
   "cell_type": "code",
   "execution_count": 43,
   "id": "258544a8-8641-4751-9868-e3541b3708b0",
   "metadata": {},
   "outputs": [
    {
     "name": "stdout",
     "output_type": "stream",
     "text": [
      "###...##..#....###..###..####..##..#..#.\n",
      "#..#.#..#.#....#..#.#..#....#.#..#.#..##\n",
      "#..#.#....#....#..#.###....#..#..#.#..#.\n",
      "###..#.##.#....###..#..#..#...####.#..##\n",
      "#.#..#..#.#....#.#..#..#.#....#..#.#..#.\n",
      "#..#..###.####.#..#.###..####.#..#..##...\n"
     ]
    }
   ],
   "source": [
    "with open('10.txt', 'r') as f:\n",
    "    data = f.read().splitlines()\n",
    "data=[i.split(\" \") for i in data]\n",
    "mainstring=[\"#\",\"#\",\"#\"]+[i for i in \".....................................\"]\n",
    "string=[\"\",\"\",\"\",\"\",\"\",\"\"]\n",
    "stringi=0\n",
    "X=1\n",
    "cycle=1\n",
    "i=0\n",
    "def check():\n",
    "    global stringi\n",
    "    if cycle in [41,81,121,161,201]:\n",
    "        stringi+=1\n",
    "        print(\"\".join(string[stringi-1]))\n",
    "    string[stringi]+=mainstring[(cycle-1)%40]\n",
    "    #print(X,\"\".join(mainstring),string[stringi])\n",
    "\n",
    "check()        \n",
    "while i<len(data):\n",
    "    if data[i]==['noop']:\n",
    "        cycle+=1\n",
    "        check()\n",
    "        i+=1\n",
    "    else:\n",
    "        V=int(data[i][1])\n",
    "        cycle+=1\n",
    "        check()\n",
    "        cycle+=1\n",
    "        X+=V\n",
    "        mainstring=[i for i in \"........................................\"]\n",
    "        mainstring[X]=\"#\"\n",
    "        #print(X,mainstring)\n",
    "        if X-1 in range(40): mainstring[X-1]=\"#\"\n",
    "        if X+1 in range(40): mainstring[X+1]=\"#\"\n",
    "        check()\n",
    "        i+=1\n",
    "print(\"\".join(string[stringi]))"
   ]
  },
  {
   "cell_type": "code",
   "execution_count": 44,
   "id": "583deef8-2a5c-46e9-8185-1ea97a3c8922",
   "metadata": {},
   "outputs": [
    {
     "data": {
      "text/plain": [
       "'BGLRBZAU'"
      ]
     },
     "execution_count": 44,
     "metadata": {},
     "output_type": "execute_result"
    }
   ],
   "source": [
    "\"RGLRBZAU\""
   ]
  }
 ],
 "metadata": {
  "kernelspec": {
   "display_name": "Python 3 (ipykernel)",
   "language": "python",
   "name": "python3"
  },
  "language_info": {
   "codemirror_mode": {
    "name": "ipython",
    "version": 3
   },
   "file_extension": ".py",
   "mimetype": "text/x-python",
   "name": "python",
   "nbconvert_exporter": "python",
   "pygments_lexer": "ipython3",
   "version": "3.9.7"
  }
 },
 "nbformat": 4,
 "nbformat_minor": 5
}
