{
 "cells": [
  {
   "cell_type": "code",
   "execution_count": 16,
   "id": "f36ac73e-eccb-4494-88ae-3b43f8878251",
   "metadata": {},
   "outputs": [
    {
     "name": "stdin",
     "output_type": "stream",
     "text": [
      " C Y C Z B Z A Z A Z A Y A Z C Y C Z A Y A Y B X A Y C Z C Z B X C Z A Z B Y C Z A Y C X B Y A Z B Y C Z B Z B Y C Z A Z A Z B Z C Z A X B X C Y C Z C Z C Z A Y C Z C Z C Z C X A Z A Z C Y A Z C Z C Z C Z A Z B Y C Z A Z B Z A Z A Y B X B X C Z C X C Z C Z A Z B Z B X B X B Y C X C Y A Y C Z A Y C Z A X B X B X C X B X B X A Y B Y C Y A Z C Y B Y B X B X B Z B X B Z A Z B Y C Z B Z B Z B Y A Y C Z A Z C Y C Z B Z C Z C Z B Y A Z C Z C Z A Z A Z B X C Y A Y C Z B Y C Z A Y C X C X B Y C Z C X C Z B Y A Y B Z C Z B Y C Y C Z C Z B Z C Z A Z A Y C Z C Z B Y A Z C Z C Z C Y B Y C Z C Z C Z C Z A X B Y C Z B Y C Z B Y C X C Y A X C Z B X B X A Z A Z A Z B Y C Z B Z A Z B Y C Y C Z C Z C Z C Y C Z B Y C Z C Z B Z A Y B Z C Z C Y A Z C X B Z C Y B Y C Z C Z A Z C Y C Y C Y B Y C Z C X B Y C Z C Y B Z A Y C Z A Y B Z A Y A Y B Z A Z C Z C Z B X C Z C Z B X B Y C Z C X A X C Z C Z C Z B X B X A Z C Z C X A Z C Z C Z A Z B Z C Z B Y C Z A Y B Z C Z C Z C Z C X A X A Y B Y C Z B Y C X A Y C Z C Z B Y B Z C Z B Y B Y B Y A Y C Z B Z A X B Y C Z C Z C X A Y C Z A X B Y A X A Z B X B X C Z C Z A X C Z A Y B Y B Z C X C Y B X C Z C Y B Y C Z C X B Z C Z C Z C X C Y C Z A Y C Z C Z C Z C Z C Z C Y B Y C Z A X A Z C Y B Z B X A Z C Z C Y C Z C X A Y C Z A Z B Y B Z C Z B Z A Y C Z B Y C Z C Y C Z C X A Y A Y C Y C Z C Z B Y A Z C Z C Y A Y A Z A Z C X C Z B X C Y C Z C Z B Y C Z B X C Z B Z B Y C X C X A X B Y A Z C X B X A Z C Z C Z A X A Y B X C Z A X C Z B Y C Z A Y B Y C Z B Z B Y A Z C Z A X B Z C Y B Z B Y A Z A Y A Z A X C X A X C Y C Z A Y C Y B X A X A Y C Y B Y C Z C Z B Z C Z C Z C Z C Z C Z C Z C Z B Y C Z A Y B Y C Y C X C Z B Z B Y C Y C Z A Z C Y B Z C Z A Z C X B Y B Y B Y C Z B Y A Y C Z C Z A Z A Z C Z B Z B Y C Z B Y B Z C Z A X A X C X C Y A Y C Z A Y A Z C Z C Z C Z B Y A Z B Z C X B X C X B Y C Z A Z C Z A X B Z B Z B Y A Y C Z B X C Z B Z C X A X C Z C Z B Z B Y C Z C Z A Z C Y C Z B Y A Y B Y A Y C Z C Y B Z A Y C Z B X B X B X C Y C Z A Y C Z C Z C Z A Y C Z B X A Z C Z C Z A Y C Z C Z B X C Z B Y A Z C X C Y C Y C Z C Y A Y B Z C Z C Z C Z B Y C Z C Z A Y A X A Y C Y C Z C Z A X B Z C Z C Z B Z B Y C Z A X C X A Z B Z C Z A X C X C Z B Y A X A X C Z C Z B X C Z B Z B Y A X C Y C Z C X A Y B Y C Z C Z C Z C Z B Z A Y C Z C Z B Z C Y B Z B X B Y A Z C Z A Z B Y C Y C Z C Z C Z B Z C Z C X C Z B X C Y B Y C Z C Z C Z C Z B Y B Y C Z B Y C X B Z A X C X C Z B X C Z C X C Z A X A Z B X C Z C Z B Y C Z A Y C Z C Z C Y C Z A Z A X C X B Y A Y B Y A X C Z B Y B Y C Z C Z B Y B X A Y C Z B Y C Y C Z C Z C X B Y A Z C Z A Z A X C X A Z C Z C Z A X B Z C Z B Y A Z A Y A X A Y A X C Z A X B Y A Y B Z C Y C Z B Z C X A Y A Y C Z C Y C Z B Y B Y B Y B X C Z C X B Y C Z C Z B Y C Z C Z B Y C Z C Y C Z C Y C Z C Y A Y A Y C Y C Y C Y C Y C Z C X B Z B Z C X C Z B Y B Y A Z C Y C Z C Z C X C Z C Z A Z B Y C Z A Y C Z C Z C Z A Z C X C Y B Y A Z B Z C Z B Y C Z B Z C X A X C Y A Y B Z B Y A X C Z B Z C Z C Z C X B Z C X A Z B Z C Z C Z C Z B Y A X C Z C Y C Y C Z A Z C Z C Z A X C Y B Y A Y A Z A Z B Z C Z A Z B Y B Y A Y A Z A Z C Z C Z C Z A X C Z B Z B X C Y A Z B Y C Z B Y A X C Z A Z C Z B Z C Y C Z B Y A Z B Z A Y B X C Z B Y C Z C Z C X C Y C Z B X C X A Y A Y C Z C Y B Y C Y C Y C Z A Y A Z B Y C Z C Z A X C Z C Y C Z B X C Y A Z A Y A Z C X C Z C Z C Z B Z C Y B Z C Z B Y C Z B Y A Y B X C Z A Y C Z A Y A Z A Z B Z A Y C Z A X B Y C Z B Z C Z A Y A Y B Z B X B X C Y C Z C Z C Y A X B Z C X B Y C X B X C X C X C Z A Y C Y C Z B Z A Z A Z C Z A Z C Z A Z A X B Y A X A Y C X B Y C Z A X B X C Z C Z C X B X A Z B X C Z B Y C Z C X C Z C X C Z B Z B Y C Z B X C X C Z C Y A Z B Z A X B X B X C Z B Z C X A Y C Z C Z B Y C X C Z A X B Y C Z C Z C Z C Z C Z A X A Z C X A Z C Z A Z C Z B Y B Z A X C X C Z B Z A Z C Z C Y C Z C Z C X A Y B Y C Z A Y C Z B Z C X B Z B Z B X B Z C Y C Z C Y B Y C Y C Z C X C X A Z B Y C Z A Y B X C Y A Y A Z B Y B Y A Y B Y B Z A X C Z B Y A X C Z C Z C X B Y A Z A X B Y A Z C Z B Z B Z B Y B Y A Z A Z A Y C Z C Z A Z C Z C Z C Z A X C Z A Y C Y A Z C Z B Y C X B Y C Z C Z C Z A Z B Z B X C Z C Z A Y B Z B X C Z C Y A Y C Y C Y C Z C Y C X C Y B Z B Y C Z A Z A Y C Z C Z B Y B Y A Z A Z A X C Z C Z A Y B Y C X C Z C Z A Z C Z B X B Y A Y C Z A X A Y C Z B X C X B Z C Y C X B Y B Y C Z C Z C X C Z A Y A Z C Y C Z A Z C Z C Y A X C X C Z B X C Z B X C Z C Z C Z B X B Y B Y B Y C X B Y C Z C Y C Z C Z B X C Y B Z C Z C Y C X C Z A X A Z C Z C Y C X C Z B Y C X C Y C Z C X A Z B Y B X C X C Y B Z C Z C Y B Z C X A Z A Y C Z C Z C X B Y C Y C Z A Z B Z B Y B Y B Z C Z A X B Y A Z A Y C Z C Z B Y C Y C Z B Z A Z B Z C Z C Z B Y B X C Z C Y C Z A Y C Z A X C X B Y B X C X C Z C X B Z C Z A Z B Z C Z A X C Z C Z A Y B Y B Z B X B Z C X B Y C Z C Z C Z A Z C Z C X C X B Y C X C X C Z C Z A Z C Y C Z C Z B Z C Z A Y B Y C Z C Z B Y B Y C X C Z B X A Y B Z A Y A Y A Y C Y C Y C Z B X B Z C Z C X C X B Z A Z A X B Y C Z B Z A Z B X C Z A Y C Z A Z A Z C Z C X C Z C Y A X B Y C Z C Z C Z C Z C Z A Y C X C Z A Y B X C Z A Y C Z C Z C Y B Z B X C Z A X B Y C Z C Z A X A Y C Z C Y B Y C Z C Z A Y A Y A Y A Y C Z A X A Z B Y B Z A Z C Y C Z C Z C Z A Z C Z A Z C Z C Z A Z C Z C Z A Z B X C Z A Y B Y C Z A X C Z A Y C Z C Z C Y C Z A X B Y C Z A Z C Z A Z A Z B Y C X B Y C X C X C Z A Y B Z A Y C Z C Z B Z A Y C Z B Y C Z A X C Z C Z C Z B Z A X B Y C Z A X C Z C X B Y C Z A Y C Y B Y A Y C Z A X B Y A Y A Z C Z C Z C X A Z C Z C Z B Y B X A Z C Z B X C Z C Y C Z C Z C Z C Y A Y C Z C Y C Z C Z B Y B Y B X C Y B Z C Z B Y C Z C Z C Z A Z A Y C Y C Z C Z A Z C Z C Z C Z B Y B X B Y A Y C Z B Z C Z B Y B Z A Y C Z C Z C Y A Y C Z C Z B Y A Z A Y C Z C Z B Y C Z B Y B Z C X C Y C Z A Y C Z A Z A X B X C Z C Y C Z C X B X B Y B Y C Z C Z C Z A X B Z C Z A Z A Z C Z B Y B X B Y C Z B Z C Z B X B Z C Z B X A X C Z C X B Z C Y C X C Z C X A X A X C Z C Z C Z B X B X C Z C Z C X C X C Z A Y B Y B Y B Y C Z C Y C Z C Z C Z B Y C Y C Z B X C Z A X C Y A Y C X A Y A Z C Z B Y B Y A Z C Y B Z B Z A X B Y C Z B X A Z A Z C Z B Z A Z C X B Z C Z C Z C Z C Z B X B Y C Z C Z C X C Y A Z B X B Y B Z C Z B Z C Z C Z C Z C Z A Y C X C Z A Y C Z C Z B Z C Z A Z C Z A Y C X C Z A X C X C Z C Z B Y C Z A Z C X C Z B Y A Y B Y C Z B X A X C Z B Y C Z B Y A Z A Z C Z A Z B Y C Z C Y B X C Z A Z B Z C Z C Y C Z B Z A X A X A Z C Z C Z C Y C X C X A X C X B X C X A Y C Y C Z C Z C Z C Z C X A Y C Y A Y B X C Y C Z A X A Z C Z C Z B Y C Z B Z C Z C Z A Y A Y C Z C Z A Z C Z C Z B X C Y C Z C Z C Z C Z A X B Y B X B Z C Z A Z A Z B Z A Z B X C Z B Z C Z A Z C Z C Z A Y B Y C Y B X A Z C X C Z C X B Y B Z C Z C Z C Z C Y C Z A X A X A Y C X C X A Y B Y C X C Z C Z B X B Z B X C X B X A Y C Z A Z C Z C Z C Z C Z C X A Z B Y C Z C X A Y A Y C Z C Z B Z B X C Z A Z B Y C Z C Z B Y A Y C Z B Z B Z A Z C X C Z B Z C Z C Z B Y C X B Y A Z C Z A X C Z B Y C Z A Z B Z C Z A Z A Y C Y B X C Z A Y C Y A X A Z A Y C X C Z C Z B Z A Z C Z C Z C Y C X C Y B Y C Z B Y C Y C Y C Y A X C Z C Z B X B Y C Z A Y C Z A Y B Z C Z C Z C Z A Y A X B Z B Y A Y A Y B Y B Z C X A Y B Y C X C Z C Z B Y C Z C X C Z C X C Z A Y A Y B Y C Z A Z C Y C Z A X C Y C Y C Y A Z C X C Z C Z A Z C Z B Y C Y C Z C Z C Z B Z C X C Z C Z C X C Z C Z C X C Z C X B Z B X A X C Z A Y C Z B X C Y A X C X B Z C Z A Y A X C X B Z B Z C X A Y C Y A Y C Z C Y A X C Z A Y A Z C Z B Y C X A Y A Y C Y B Y A Z B Y C X A Y B Z B Z C Z C Y C Z B Y C X C Z C Z A Y C Z C X A Y C Z C Z B X C Z A X C Z A Y C Y A Y B X C Y C Y A Y C Z A Z C Z C Y C Z A Z A Z C Z C Z C Z C Z C Z A Y A Z B Y C Z A Y C Y C Z A Y C X C Z A Z C Z C Y C X C Z C Y A X B Y C Z A Y A Z C X C X C Z A Z C Z C Z C Z C Z A X C Z C Z C X C Z A Y C Z C Z B X B Y C Y B Z C Y C Z B Y A Y A Y B Y A Z B Z B Y A X C Z B X A Y C X C Z C X C Z C Z C X A Z B Y A X C Z C Z B Z C X C X B Z A Y A Y A Y A Z C Y C Z A X B Y C Z B Y B Y C Y C Z C Y B Y C Z B Z C X C X A X C Z C Z B Z A Y A Z B X B Z B Y C Z A Z C X A Z B Y C Z B Y A Y C Z A Y B Z C Z A Z B Z B Y B Y A X B Y B Y C Z B Y C Z B Z A Z A Y C Z B Y C Z C Z C X C X C Y B Y C Y A Z C Z A Z C Z B Z C Y C Z A X B X A Z A Y A Y C Z C Z C Z C Y C Z C Z A Z A X B X A Z C Y C Z B Y A Y A Y B X B X C Z C Z C Z C X C Z C Y C Z A Y C Z C Z C Y A Z B Y A Y B Y B Y A Y A Y B Z C Z C X B Y C Z C Z C X A Z B Y A Z C Z C Z B Y C X C Z C Y A Y C Z A Y B Y A Y C X C Y C Y B Y B Z A Z C Z C Y B Z B Y A Y A Z A Y A Y B X C Z A X B Y B Y C Z B Y B Y B Z C Z A Y C X A X A Y C X A Y A Z C Z B Y B Y B Y C Y A Y B Z C Z C Z B Z C Z B X C Y B Y A Z C X A Z C Z B X C Z C Z B Z C Z A Z A Z B Y C Z A Z C Y B Y B Z C Z C X C Z A Z C Z C Y C X A Y B Y B X C X C Z A Z C X B Z C Z A Y C Y C Z A Z C Z A Z C Y C X C Y B Z B Y A Z A Y B X A Z C X C Y C X C Z C X A X C Z B Y C Z A Y B Z C X B Y C Z A Z C Z C Z C Y A Y A Z A Y C X B Z A Z C Z C Z C Z A X C Z A Z A Y C X B X C Z C Z A X A Y C Z C X C Z A Z C Y C Z B Z C Y C X A Y A X A Z C Z C Z C Z C Z A Y C Z A Z A Y C Z B Z B Y C X C Z C X C Z B X A Y C Z B Z A Z A Z B Z B Z C Z C Z B Y C Z A Y C X A X A X C X C X B Y B X A Y C Z B X B Y A Z B Z A Z A Z C X C Z A X A Y C X C Y C Y C X A Z C Z C X C X A Y A X C Z C Z B Y B Z C X C X C Z B Z B Z B Z B Z B Y B X C Z C Z C Z C X C Z C Z B Y C Z C X B Y C Z C Y B Z C Y C Z C Z C Z C Z C Z C Z C Z A X A Y C Y C Z A Y B X C Z B Y C Y C Z C Z C Z C Y C Z A Z B Y A Z C Z B Z C X C X A Z C Z C X C Z B Z C Z C Y B X C Z A Z C X B Y B Y C Z C Z C Z B Y C Z B Y A Y B Z B Z B Y C Z B Z A X C Z C Z C Z B Y B Y C Z C Y C Z B Y C Z B X B Z C X B Y C Y B Y C Z A Y B Z C X B Y A Z C Z C X A Z B Z A Y C Z C X B Y C Z C Z B Y B Z C X C X C Z C Z C X B Z A Y C Z C X A Z C Z C Z C Z C Y B Z A X B Z B Z C Z C Z B Z C Z B Z A X B Z B Y B Z B Z B Y C X A Y B Y B X B X A X C Z C Y C Y C Y C Y B Y A X C Y A X C Z B Z C Z C Y B Y A Z C Y A Z B Y B X C Z A X A Z C Z C Z A X C Z C X A Z C Y B Z C Y B Z A Y A Z C Z A Y C Z C Z A X C Z C Z C Z B Y C X C Y C Z B X A Z C Z C X B Y A Y B Y C Z C Z C Z A Y A X C Z C Z C Z C Z B Y A Z C Z A X A Y B Z\n"
     ]
    },
    {
     "data": {
      "text/plain": [
       "13526"
      ]
     },
     "execution_count": 16,
     "metadata": {},
     "output_type": "execute_result"
    }
   ],
   "source": [
    "#Notes I learnt from this question is that my calc function is very un-intuitive to read making me get confused and debugging a lot. Next time I will make a more similar design.\n",
    "def score_finder(string):\n",
    "    def calc(score):\n",
    "        bum=0\n",
    "        if score[1]=='X':\n",
    "            bum+=1\n",
    "        elif score[1]=='Y':\n",
    "            bum+=2\n",
    "        else:\n",
    "            bum+=3\n",
    "        if score[0]==\"A\":\n",
    "            if bum==1:\n",
    "                bum+=3\n",
    "            elif bum ==2:\n",
    "                bum+=6\n",
    "            else:\n",
    "                bum+=0\n",
    "        elif score[0]==\"B\":\n",
    "            if bum==1:\n",
    "                bum+=0\n",
    "            elif bum ==2:\n",
    "                bum+=3\n",
    "            else:\n",
    "                bum+=6\n",
    "        else:\n",
    "            if bum==1:\n",
    "                bum+=6\n",
    "            elif bum ==2:\n",
    "                bum+=0\n",
    "            else:\n",
    "                bum+=3\n",
    "        return bum\n",
    "    total=0\n",
    "    j=0\n",
    "    length=len(string)\n",
    "    while j<len(string):\n",
    "        score=(string[j],string[j+2])\n",
    "        total+=calc(score)\n",
    "        j+=4\n",
    "    return total\n",
    "\n",
    "score_finder(input())"
   ]
  },
  {
   "cell_type": "code",
   "execution_count": 24,
   "id": "81a4480e-7d6f-4e32-a8cf-a06c6c822dd7",
   "metadata": {},
   "outputs": [
    {
     "name": "stdin",
     "output_type": "stream",
     "text": [
      " C Y C Z B Z A Z A Z A Y A Z C Y C Z A Y A Y B X A Y C Z C Z B X C Z A Z B Y C Z A Y C X B Y A Z B Y C Z B Z B Y C Z A Z A Z B Z C Z A X B X C Y C Z C Z C Z A Y C Z C Z C Z C X A Z A Z C Y A Z C Z C Z C Z A Z B Y C Z A Z B Z A Z A Y B X B X C Z C X C Z C Z A Z B Z B X B X B Y C X C Y A Y C Z A Y C Z A X B X B X C X B X B X A Y B Y C Y A Z C Y B Y B X B X B Z B X B Z A Z B Y C Z B Z B Z B Y A Y C Z A Z C Y C Z B Z C Z C Z B Y A Z C Z C Z A Z A Z B X C Y A Y C Z B Y C Z A Y C X C X B Y C Z C X C Z B Y A Y B Z C Z B Y C Y C Z C Z B Z C Z A Z A Y C Z C Z B Y A Z C Z C Z C Y B Y C Z C Z C Z C Z A X B Y C Z B Y C Z B Y C X C Y A X C Z B X B X A Z A Z A Z B Y C Z B Z A Z B Y C Y C Z C Z C Z C Y C Z B Y C Z C Z B Z A Y B Z C Z C Y A Z C X B Z C Y B Y C Z C Z A Z C Y C Y C Y B Y C Z C X B Y C Z C Y B Z A Y C Z A Y B Z A Y A Y B Z A Z C Z C Z B X C Z C Z B X B Y C Z C X A X C Z C Z C Z B X B X A Z C Z C X A Z C Z C Z A Z B Z C Z B Y C Z A Y B Z C Z C Z C Z C X A X A Y B Y C Z B Y C X A Y C Z C Z B Y B Z C Z B Y B Y B Y A Y C Z B Z A X B Y C Z C Z C X A Y C Z A X B Y A X A Z B X B X C Z C Z A X C Z A Y B Y B Z C X C Y B X C Z C Y B Y C Z C X B Z C Z C Z C X C Y C Z A Y C Z C Z C Z C Z C Z C Y B Y C Z A X A Z C Y B Z B X A Z C Z C Y C Z C X A Y C Z A Z B Y B Z C Z B Z A Y C Z B Y C Z C Y C Z C X A Y A Y C Y C Z C Z B Y A Z C Z C Y A Y A Z A Z C X C Z B X C Y C Z C Z B Y C Z B X C Z B Z B Y C X C X A X B Y A Z C X B X A Z C Z C Z A X A Y B X C Z A X C Z B Y C Z A Y B Y C Z B Z B Y A Z C Z A X B Z C Y B Z B Y A Z A Y A Z A X C X A X C Y C Z A Y C Y B X A X A Y C Y B Y C Z C Z B Z C Z C Z C Z C Z C Z C Z C Z B Y C Z A Y B Y C Y C X C Z B Z B Y C Y C Z A Z C Y B Z C Z A Z C X B Y B Y B Y C Z B Y A Y C Z C Z A Z A Z C Z B Z B Y C Z B Y B Z C Z A X A X C X C Y A Y C Z A Y A Z C Z C Z C Z B Y A Z B Z C X B X C X B Y C Z A Z C Z A X B Z B Z B Y A Y C Z B X C Z B Z C X A X C Z C Z B Z B Y C Z C Z A Z C Y C Z B Y A Y B Y A Y C Z C Y B Z A Y C Z B X B X B X C Y C Z A Y C Z C Z C Z A Y C Z B X A Z C Z C Z A Y C Z C Z B X C Z B Y A Z C X C Y C Y C Z C Y A Y B Z C Z C Z C Z B Y C Z C Z A Y A X A Y C Y C Z C Z A X B Z C Z C Z B Z B Y C Z A X C X A Z B Z C Z A X C X C Z B Y A X A X C Z C Z B X C Z B Z B Y A X C Y C Z C X A Y B Y C Z C Z C Z C Z B Z A Y C Z C Z B Z C Y B Z B X B Y A Z C Z A Z B Y C Y C Z C Z C Z B Z C Z C X C Z B X C Y B Y C Z C Z C Z C Z B Y B Y C Z B Y C X B Z A X C X C Z B X C Z C X C Z A X A Z B X C Z C Z B Y C Z A Y C Z C Z C Y C Z A Z A X C X B Y A Y B Y A X C Z B Y B Y C Z C Z B Y B X A Y C Z B Y C Y C Z C Z C X B Y A Z C Z A Z A X C X A Z C Z C Z A X B Z C Z B Y A Z A Y A X A Y A X C Z A X B Y A Y B Z C Y C Z B Z C X A Y A Y C Z C Y C Z B Y B Y B Y B X C Z C X B Y C Z C Z B Y C Z C Z B Y C Z C Y C Z C Y C Z C Y A Y A Y C Y C Y C Y C Y C Z C X B Z B Z C X C Z B Y B Y A Z C Y C Z C Z C X C Z C Z A Z B Y C Z A Y C Z C Z C Z A Z C X C Y B Y A Z B Z C Z B Y C Z B Z C X A X C Y A Y B Z B Y A X C Z B Z C Z C Z C X B Z C X A Z B Z C Z C Z C Z B Y A X C Z C Y C Y C Z A Z C Z C Z A X C Y B Y A Y A Z A Z B Z C Z A Z B Y B Y A Y A Z A Z C Z C Z C Z A X C Z B Z B X C Y A Z B Y C Z B Y A X C Z A Z C Z B Z C Y C Z B Y A Z B Z A Y B X C Z B Y C Z C Z C X C Y C Z B X C X A Y A Y C Z C Y B Y C Y C Y C Z A Y A Z B Y C Z C Z A X C Z C Y C Z B X C Y A Z A Y A Z C X C Z C Z C Z B Z C Y B Z C Z B Y C Z B Y A Y B X C Z A Y C Z A Y A Z A Z B Z A Y C Z A X B Y C Z B Z C Z A Y A Y B Z B X B X C Y C Z C Z C Y A X B Z C X B Y C X B X C X C X C Z A Y C Y C Z B Z A Z A Z C Z A Z C Z A Z A X B Y A X A Y C X B Y C Z A X B X C Z C Z C X B X A Z B X C Z B Y C Z C X C Z C X C Z B Z B Y C Z B X C X C Z C Y A Z B Z A X B X B X C Z B Z C X A Y C Z C Z B Y C X C Z A X B Y C Z C Z C Z C Z C Z A X A Z C X A Z C Z A Z C Z B Y B Z A X C X C Z B Z A Z C Z C Y C Z C Z C X A Y B Y C Z A Y C Z B Z C X B Z B Z B X B Z C Y C Z C Y B Y C Y C Z C X C X A Z B Y C Z A Y B X C Y A Y A Z B Y B Y A Y B Y B Z A X C Z B Y A X C Z C Z C X B Y A Z A X B Y A Z C Z B Z B Z B Y B Y A Z A Z A Y C Z C Z A Z C Z C Z C Z A X C Z A Y C Y A Z C Z B Y C X B Y C Z C Z C Z A Z B Z B X C Z C Z A Y B Z B X C Z C Y A Y C Y C Y C Z C Y C X C Y B Z B Y C Z A Z A Y C Z C Z B Y B Y A Z A Z A X C Z C Z A Y B Y C X C Z C Z A Z C Z B X B Y A Y C Z A X A Y C Z B X C X B Z C Y C X B Y B Y C Z C Z C X C Z A Y A Z C Y C Z A Z C Z C Y A X C X C Z B X C Z B X C Z C Z C Z B X B Y B Y B Y C X B Y C Z C Y C Z C Z B X C Y B Z C Z C Y C X C Z A X A Z C Z C Y C X C Z B Y C X C Y C Z C X A Z B Y B X C X C Y B Z C Z C Y B Z C X A Z A Y C Z C Z C X B Y C Y C Z A Z B Z B Y B Y B Z C Z A X B Y A Z A Y C Z C Z B Y C Y C Z B Z A Z B Z C Z C Z B Y B X C Z C Y C Z A Y C Z A X C X B Y B X C X C Z C X B Z C Z A Z B Z C Z A X C Z C Z A Y B Y B Z B X B Z C X B Y C Z C Z C Z A Z C Z C X C X B Y C X C X C Z C Z A Z C Y C Z C Z B Z C Z A Y B Y C Z C Z B Y B Y C X C Z B X A Y B Z A Y A Y A Y C Y C Y C Z B X B Z C Z C X C X B Z A Z A X B Y C Z B Z A Z B X C Z A Y C Z A Z A Z C Z C X C Z C Y A X B Y C Z C Z C Z C Z C Z A Y C X C Z A Y B X C Z A Y C Z C Z C Y B Z B X C Z A X B Y C Z C Z A X A Y C Z C Y B Y C Z C Z A Y A Y A Y A Y C Z A X A Z B Y B Z A Z C Y C Z C Z C Z A Z C Z A Z C Z C Z A Z C Z C Z A Z B X C Z A Y B Y C Z A X C Z A Y C Z C Z C Y C Z A X B Y C Z A Z C Z A Z A Z B Y C X B Y C X C X C Z A Y B Z A Y C Z C Z B Z A Y C Z B Y C Z A X C Z C Z C Z B Z A X B Y C Z A X C Z C X B Y C Z A Y C Y B Y A Y C Z A X B Y A Y A Z C Z C Z C X A Z C Z C Z B Y B X A Z C Z B X C Z C Y C Z C Z C Z C Y A Y C Z C Y C Z C Z B Y B Y B X C Y B Z C Z B Y C Z C Z C Z A Z A Y C Y C Z C Z A Z C Z C Z C Z B Y B X B Y A Y C Z B Z C Z B Y B Z A Y C Z C Z C Y A Y C Z C Z B Y A Z A Y C Z C Z B Y C Z B Y B Z C X C Y C Z A Y C Z A Z A X B X C Z C Y C Z C X B X B Y B Y C Z C Z C Z A X B Z C Z A Z A Z C Z B Y B X B Y C Z B Z C Z B X B Z C Z B X A X C Z C X B Z C Y C X C Z C X A X A X C Z C Z C Z B X B X C Z C Z C X C X C Z A Y B Y B Y B Y C Z C Y C Z C Z C Z B Y C Y C Z B X C Z A X C Y A Y C X A Y A Z C Z B Y B Y A Z C Y B Z B Z A X B Y C Z B X A Z A Z C Z B Z A Z C X B Z C Z C Z C Z C Z B X B Y C Z C Z C X C Y A Z B X B Y B Z C Z B Z C Z C Z C Z C Z A Y C X C Z A Y C Z C Z B Z C Z A Z C Z A Y C X C Z A X C X C Z C Z B Y C Z A Z C X C Z B Y A Y B Y C Z B X A X C Z B Y C Z B Y A Z A Z C Z A Z B Y C Z C Y B X C Z A Z B Z C Z C Y C Z B Z A X A X A Z C Z C Z C Y C X C X A X C X B X C X A Y C Y C Z C Z C Z C Z C X A Y C Y A Y B X C Y C Z A X A Z C Z C Z B Y C Z B Z C Z C Z A Y A Y C Z C Z A Z C Z C Z B X C Y C Z C Z C Z C Z A X B Y B X B Z C Z A Z A Z B Z A Z B X C Z B Z C Z A Z C Z C Z A Y B Y C Y B X A Z C X C Z C X B Y B Z C Z C Z C Z C Y C Z A X A X A Y C X C X A Y B Y C X C Z C Z B X B Z B X C X B X A Y C Z A Z C Z C Z C Z C Z C X A Z B Y C Z C X A Y A Y C Z C Z B Z B X C Z A Z B Y C Z C Z B Y A Y C Z B Z B Z A Z C X C Z B Z C Z C Z B Y C X B Y A Z C Z A X C Z B Y C Z A Z B Z C Z A Z A Y C Y B X C Z A Y C Y A X A Z A Y C X C Z C Z B Z A Z C Z C Z C Y C X C Y B Y C Z B Y C Y C Y C Y A X C Z C Z B X B Y C Z A Y C Z A Y B Z C Z C Z C Z A Y A X B Z B Y A Y A Y B Y B Z C X A Y B Y C X C Z C Z B Y C Z C X C Z C X C Z A Y A Y B Y C Z A Z C Y C Z A X C Y C Y C Y A Z C X C Z C Z A Z C Z B Y C Y C Z C Z C Z B Z C X C Z C Z C X C Z C Z C X C Z C X B Z B X A X C Z A Y C Z B X C Y A X C X B Z C Z A Y A X C X B Z B Z C X A Y C Y A Y C Z C Y A X C Z A Y A Z C Z B Y C X A Y A Y C Y B Y A Z B Y C X A Y B Z B Z C Z C Y C Z B Y C X C Z C Z A Y C Z C X A Y C Z C Z B X C Z A X C Z A Y C Y A Y B X C Y C Y A Y C Z A Z C Z C Y C Z A Z A Z C Z C Z C Z C Z C Z A Y A Z B Y C Z A Y C Y C Z A Y C X C Z A Z C Z C Y C X C Z C Y A X B Y C Z A Y A Z C X C X C Z A Z C Z C Z C Z C Z A X C Z C Z C X C Z A Y C Z C Z B X B Y C Y B Z C Y C Z B Y A Y A Y B Y A Z B Z B Y A X C Z B X A Y C X C Z C X C Z C Z C X A Z B Y A X C Z C Z B Z C X C X B Z A Y A Y A Y A Z C Y C Z A X B Y C Z B Y B Y C Y C Z C Y B Y C Z B Z C X C X A X C Z C Z B Z A Y A Z B X B Z B Y C Z A Z C X A Z B Y C Z B Y A Y C Z A Y B Z C Z A Z B Z B Y B Y A X B Y B Y C Z B Y C Z B Z A Z A Y C Z B Y C Z C Z C X C X C Y B Y C Y A Z C Z A Z C Z B Z C Y C Z A X B X A Z A Y A Y C Z C Z C Z C Y C Z C Z A Z A X B X A Z C Y C Z B Y A Y A Y B X B X C Z C Z C Z C X C Z C Y C Z A Y C Z C Z C Y A Z B Y A Y B Y B Y A Y A Y B Z C Z C X B Y C Z C Z C X A Z B Y A Z C Z C Z B Y C X C Z C Y A Y C Z A Y B Y A Y C X C Y C Y B Y B Z A Z C Z C Y B Z B Y A Y A Z A Y A Y B X C Z A X B Y B Y C Z B Y B Y B Z C Z A Y C X A X A Y C X A Y A Z C Z B Y B Y B Y C Y A Y B Z C Z C Z B Z C Z B X C Y B Y A Z C X A Z C Z B X C Z C Z B Z C Z A Z A Z B Y C Z A Z C Y B Y B Z C Z C X C Z A Z C Z C Y C X A Y B Y B X C X C Z A Z C X B Z C Z A Y C Y C Z A Z C Z A Z C Y C X C Y B Z B Y A Z A Y B X A Z C X C Y C X C Z C X A X C Z B Y C Z A Y B Z C X B Y C Z A Z C Z C Z C Y A Y A Z A Y C X B Z A Z C Z C Z C Z A X C Z A Z A Y C X B X C Z C Z A X A Y C Z C X C Z A Z C Y C Z B Z C Y C X A Y A X A Z C Z C Z C Z C Z A Y C Z A Z A Y C Z B Z B Y C X C Z C X C Z B X A Y C Z B Z A Z A Z B Z B Z C Z C Z B Y C Z A Y C X A X A X C X C X B Y B X A Y C Z B X B Y A Z B Z A Z A Z C X C Z A X A Y C X C Y C Y C X A Z C Z C X C X A Y A X C Z C Z B Y B Z C X C X C Z B Z B Z B Z B Z B Y B X C Z C Z C Z C X C Z C Z B Y C Z C X B Y C Z C Y B Z C Y C Z C Z C Z C Z C Z C Z C Z A X A Y C Y C Z A Y B X C Z B Y C Y C Z C Z C Z C Y C Z A Z B Y A Z C Z B Z C X C X A Z C Z C X C Z B Z C Z C Y B X C Z A Z C X B Y B Y C Z C Z C Z B Y C Z B Y A Y B Z B Z B Y C Z B Z A X C Z C Z C Z B Y B Y C Z C Y C Z B Y C Z B X B Z C X B Y C Y B Y C Z A Y B Z C X B Y A Z C Z C X A Z B Z A Y C Z C X B Y C Z C Z B Y B Z C X C X C Z C Z C X B Z A Y C Z C X A Z C Z C Z C Z C Y B Z A X B Z B Z C Z C Z B Z C Z B Z A X B Z B Y B Z B Z B Y C X A Y B Y B X B X A X C Z C Y C Y C Y C Y B Y A X C Y A X C Z B Z C Z C Y B Y A Z C Y A Z B Y B X C Z A X A Z C Z C Z A X C Z C X A Z C Y B Z C Y B Z A Y A Z C Z A Y C Z C Z A X C Z C Z C Z B Y C X C Y C Z B X A Z C Z C X B Y A Y B Y C Z C Z C Z A Y A X C Z C Z C Z C Z B Y A Z C Z A X A Y B Z\n"
     ]
    },
    {
     "data": {
      "text/plain": [
       "14204"
      ]
     },
     "execution_count": 24,
     "metadata": {},
     "output_type": "execute_result"
    }
   ],
   "source": [
    "def score_finder2(string):\n",
    "    def calc2(score):\n",
    "        #Chose to add a bit of code here that will translate this new problem in the old probelms format\n",
    "        if score[0]==\"A\":\n",
    "            if score[1]==\"X\":\n",
    "                score[1]=\"Z\"\n",
    "            elif score[1]==\"Y\":\n",
    "                score[1]=\"X\"\n",
    "            else:\n",
    "                score[1]=\"Y\"\n",
    "        elif score[0]==\"C\":\n",
    "            if score[1]==\"X\":\n",
    "                score[1]=\"Y\"\n",
    "            elif score[1]==\"Y\":\n",
    "                score[1]=\"Z\"\n",
    "            else:\n",
    "                score[1]=\"X\"\n",
    "        #####\n",
    "        bum=0\n",
    "        if score[1]=='X':\n",
    "            bum+=1\n",
    "        elif score[1]=='Y':\n",
    "            bum+=2\n",
    "        else:\n",
    "            bum+=3\n",
    "        if score[0]==\"A\":\n",
    "            if bum==1:\n",
    "                bum+=3\n",
    "            elif bum ==2:\n",
    "                bum+=6\n",
    "            else:\n",
    "                bum+=0\n",
    "        elif score[0]==\"B\":\n",
    "            if bum==1:\n",
    "                bum+=0\n",
    "            elif bum ==2:\n",
    "                bum+=3\n",
    "            else:\n",
    "                bum+=6\n",
    "        else:\n",
    "            if bum==1:\n",
    "                bum+=6\n",
    "            elif bum ==2:\n",
    "                bum+=0\n",
    "            else:\n",
    "                bum+=3\n",
    "        return bum\n",
    "    total=0\n",
    "    j=0\n",
    "    length=len(string)\n",
    "    while j<len(string):\n",
    "        score=[string[j],string[j+2]]\n",
    "        total+=calc2(score)\n",
    "        j+=4\n",
    "    return total\n",
    "\n",
    "score_finder2(input())"
   ]
  },
  {
   "cell_type": "code",
   "execution_count": null,
   "id": "7a169ccc-06e5-49d7-a3d6-a5b09d5dbe15",
   "metadata": {},
   "outputs": [],
   "source": []
  }
 ],
 "metadata": {
  "kernelspec": {
   "display_name": "Python 3 (ipykernel)",
   "language": "python",
   "name": "python3"
  },
  "language_info": {
   "codemirror_mode": {
    "name": "ipython",
    "version": 3
   },
   "file_extension": ".py",
   "mimetype": "text/x-python",
   "name": "python",
   "nbconvert_exporter": "python",
   "pygments_lexer": "ipython3",
   "version": "3.9.7"
  }
 },
 "nbformat": 4,
 "nbformat_minor": 5
}
