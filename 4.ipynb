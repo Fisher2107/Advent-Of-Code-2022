{
 "cells": [
  {
   "cell_type": "code",
   "execution_count": 25,
   "id": "3530ce9b-ea35-40f2-b2b9-49b3ba3223a1",
   "metadata": {},
   "outputs": [
    {
     "name": "stdout",
     "output_type": "stream",
     "text": [
      "560\n"
     ]
    }
   ],
   "source": [
    "with open('4.txt', 'r') as f:\n",
    "    data = f.read().splitlines()\n",
    "total=0\n",
    "for i in range(len(data)):\n",
    "    data[i]=data[i].split(\",\")\n",
    "    for j in range(2):\n",
    "        data[i][j]=data[i][j].split(\"-\")\n",
    "        for k in range(2):\n",
    "            data[i][j][k]=int(data[i][j][k])\n",
    "    if (data[i][1][0]>=data[i][0][0] and data[i][1][1]<=data[i][0][1]) or (data[i][0][0]>=data[i][1][0] and data[i][0][1]<=data[i][1][1]):\n",
    "        total+=1\n",
    "        #print(i)\n",
    "print(total)"
   ]
  },
  {
   "cell_type": "code",
   "execution_count": 26,
   "id": "1bff0ed2-045c-416c-a7ff-791472fc283a",
   "metadata": {},
   "outputs": [
    {
     "name": "stdout",
     "output_type": "stream",
     "text": [
      "839\n"
     ]
    }
   ],
   "source": [
    "with open('4.txt', 'r') as f:\n",
    "    data = f.read().splitlines()\n",
    "total=0\n",
    "for i in range(len(data)):\n",
    "    data[i]=data[i].split(\",\")\n",
    "    for j in range(2):\n",
    "        data[i][j]=data[i][j].split(\"-\")\n",
    "        for k in range(2):\n",
    "            data[i][j][k]=int(data[i][j][k])\n",
    "    if (data[i][0][0]>=data[i][1][0] and data[i][0][0]<=data[i][1][1]) or (data[i][0][1]>=data[i][1][0] and data[i][0][1]<=data[i][1][1]) or (data[i][0][0]<=data[i][1][0] and data[i][0][1]>=data[i][1][1]):\n",
    "        total+=1\n",
    "    else:\n",
    "        continue\n",
    "        #print(data[i])\n",
    "print(total)"
   ]
  },
  {
   "cell_type": "code",
   "execution_count": null,
   "id": "4c01b6c9-7f24-454b-a229-73bc3bd65527",
   "metadata": {},
   "outputs": [],
   "source": []
  }
 ],
 "metadata": {
  "kernelspec": {
   "display_name": "Python 3 (ipykernel)",
   "language": "python",
   "name": "python3"
  },
  "language_info": {
   "codemirror_mode": {
    "name": "ipython",
    "version": 3
   },
   "file_extension": ".py",
   "mimetype": "text/x-python",
   "name": "python",
   "nbconvert_exporter": "python",
   "pygments_lexer": "ipython3",
   "version": "3.9.7"
  }
 },
 "nbformat": 4,
 "nbformat_minor": 5
}
